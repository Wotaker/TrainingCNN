{
 "cells": [
  {
   "cell_type": "code",
   "execution_count": 1,
   "metadata": {},
   "outputs": [
    {
     "name": "stderr",
     "output_type": "stream",
     "text": [
      "WARNING:absl:GlobalAsyncCheckpointManager is not imported correctly. Checkpointing of GlobalDeviceArrays will not be available.To use the feature, install tensorstore.\n"
     ]
    }
   ],
   "source": [
    "from typing import Callable, Tuple, Any, Dict, List\n",
    "from absl import logging\n",
    "from functools import partial\n",
    "from tqdm import tqdm\n",
    "from dataclasses import dataclass\n",
    "\n",
    "import os\n",
    "import time\n",
    "import numpy as np\n",
    "import jax\n",
    "import jax.numpy as jnp\n",
    "from jax.random import PRNGKey as jkey\n",
    "from chex import Scalar, Array, PRNGKey, Shape\n",
    "import flax\n",
    "from flax import linen as nn\n",
    "from flax.training.train_state import TrainState as RawTrainState\n",
    "from flax.training.checkpoints import restore_checkpoint\n",
    "import optax\n",
    "import matplotlib.pyplot as plt\n",
    "import tensorflow as tf\n",
    "\n",
    "from training_cnn import *\n",
    "from architectures import *\n",
    "\n",
    "logging.set_verbosity(logging.WARN)\n",
    "\n",
    "\n",
    "SEED = 42"
   ]
  },
  {
   "cell_type": "code",
   "execution_count": 2,
   "metadata": {},
   "outputs": [
    {
     "name": "stdout",
     "output_type": "stream",
     "text": [
      "epoch:  1, train_loss: 2.2817, train_accuracy: 22.76, test_loss: 2.4850, test_accuracy: 10.10\n",
      "epoch:  2, train_loss: 1.8716, train_accuracy: 31.09, test_loss: 2.3741, test_accuracy: 13.70\n",
      "epoch:  3, train_loss: 1.7111, train_accuracy: 36.24, test_loss: 1.8696, test_accuracy: 32.60\n",
      "epoch:  4, train_loss: 1.5939, train_accuracy: 41.09, test_loss: 1.7909, test_accuracy: 34.50\n",
      "epoch:  5, train_loss: 1.5263, train_accuracy: 43.67, test_loss: 1.6881, test_accuracy: 36.80\n",
      "epoch:  6, train_loss: 1.4837, train_accuracy: 45.09, test_loss: 1.4637, test_accuracy: 49.30\n",
      "epoch:  7, train_loss: 1.4396, train_accuracy: 46.73, test_loss: 1.4469, test_accuracy: 46.20\n",
      "epoch:  8, train_loss: 1.3861, train_accuracy: 48.58, test_loss: 1.6482, test_accuracy: 41.00\n",
      "epoch:  9, train_loss: 1.3572, train_accuracy: 51.08, test_loss: 1.5712, test_accuracy: 45.00\n",
      "epoch: 10, train_loss: 1.3217, train_accuracy: 52.38, test_loss: 1.4965, test_accuracy: 45.50\n",
      "Total training time: 86.821\n"
     ]
    }
   ],
   "source": [
    "final_state, metrices, elapsed_time = train_and_eval(\n",
    "    seed=42,\n",
    "    epochs=10,\n",
    "    batch_size=32,\n",
    "    create_state_fun=create_GAPCNN,\n",
    "    lr=0.001,\n",
    "    momentum=0.9,\n",
    "    ds_chunk_size=0.1,\n",
    "    log_every=1,\n",
    "    checkpoint_dir=os.path.join(\"checkpoints/gap_cnn\"),\n",
    ")\n",
    "print(f\"Total training time: {elapsed_time:.3f}\")"
   ]
  },
  {
   "cell_type": "code",
   "execution_count": 14,
   "metadata": {},
   "outputs": [],
   "source": [
    "doggo = plt.imread(\"labrador_32x24.jpg\")\n",
    "doggo_batch = jnp.expand_dims(doggo, axis=0)"
   ]
  },
  {
   "cell_type": "code",
   "execution_count": 20,
   "metadata": {},
   "outputs": [
    {
     "data": {
      "text/plain": [
       "DeviceArray([[ 0.00648331, -1.2280122 ,  2.0572402 ,  1.1882851 ,\n",
       "               1.7229375 ,  1.4963266 ,  1.3262426 ,  0.52195233,\n",
       "              -1.4348559 , -1.0805315 ]], dtype=float32)"
      ]
     },
     "execution_count": 20,
     "metadata": {},
     "output_type": "execute_result"
    }
   ],
   "source": [
    "doggo_prediction = logits = GAPCNN().apply(\n",
    "    {'params': final_state.params, 'batch_stats': final_state.batch_stats},\n",
    "    doggo_batch,\n",
    "    training=False,\n",
    "    rngs={'dropout': jax.random.PRNGKey(42)}\n",
    ")\n",
    "doggo_prediction"
   ]
  },
  {
   "cell_type": "code",
   "execution_count": null,
   "metadata": {},
   "outputs": [],
   "source": []
  }
 ],
 "metadata": {
  "kernelspec": {
   "display_name": "Python 3.10.4 ('pyncn310')",
   "language": "python",
   "name": "python3"
  },
  "language_info": {
   "codemirror_mode": {
    "name": "ipython",
    "version": 3
   },
   "file_extension": ".py",
   "mimetype": "text/x-python",
   "name": "python",
   "nbconvert_exporter": "python",
   "pygments_lexer": "ipython3",
   "version": "3.10.4"
  },
  "orig_nbformat": 4,
  "vscode": {
   "interpreter": {
    "hash": "54934a5afaccb2ddc951324a0bd74860167bceb796717f7926bef290ae4125ad"
   }
  }
 },
 "nbformat": 4,
 "nbformat_minor": 2
}
